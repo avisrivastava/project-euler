{
 "cells": [
  {
   "cell_type": "markdown",
   "metadata": {},
   "source": [
    "## Normal Distribution"
   ]
  },
  {
   "cell_type": "code",
   "execution_count": 1,
   "metadata": {
    "collapsed": true
   },
   "outputs": [],
   "source": [
    "data <- read.csv(\"../PH252.1x//project1/femaleControlsPopulation.csv\")"
   ]
  },
  {
   "cell_type": "code",
   "execution_count": 2,
   "metadata": {
    "collapsed": true
   },
   "outputs": [],
   "source": [
    "x <- unlist( data )"
   ]
  },
  {
   "cell_type": "code",
   "execution_count": 7,
   "metadata": {
    "collapsed": true
   },
   "outputs": [],
   "source": [
    "set.seed(1)\n",
    "n <- 10000\n",
    "#empty vector\n",
    "dist <- vector(\"numeric\", n)\n",
    "\n",
    "for(i in seq(1:n)){\n",
    "    dist[i] <- mean( sample(x, 50) )\n",
    "}"
   ]
  },
  {
   "cell_type": "code",
   "execution_count": 8,
   "metadata": {},
   "outputs": [
    {
     "data": {
      "text/html": [
       "0.9772"
      ],
      "text/latex": [
       "0.9772"
      ],
      "text/markdown": [
       "0.9772"
      ],
      "text/plain": [
       "[1] 0.9772"
      ]
     },
     "metadata": {},
     "output_type": "display_data"
    }
   ],
   "source": [
    "mean(dist<=25) - mean(dist<=23)"
   ]
  },
  {
   "cell_type": "code",
   "execution_count": 10,
   "metadata": {},
   "outputs": [
    {
     "data": {
      "text/html": [
       "0.976564767827254"
      ],
      "text/latex": [
       "0.976564767827254"
      ],
      "text/markdown": [
       "0.976564767827254"
      ],
      "text/plain": [
       "[1] 0.9765648"
      ]
     },
     "metadata": {},
     "output_type": "display_data"
    }
   ],
   "source": [
    "pnorm( (25-23.9) / 0.43)  - pnorm( (23-23.9) / 0.43) "
   ]
  },
  {
   "cell_type": "code",
   "execution_count": null,
   "metadata": {
    "collapsed": true
   },
   "outputs": [],
   "source": []
  },
  {
   "cell_type": "markdown",
   "metadata": {},
   "source": [
    "## t-test"
   ]
  },
  {
   "cell_type": "code",
   "execution_count": 1,
   "metadata": {},
   "outputs": [
    {
     "name": "stderr",
     "output_type": "stream",
     "text": [
      "\n",
      "Attaching package: ‘dplyr’\n",
      "\n",
      "The following objects are masked from ‘package:stats’:\n",
      "\n",
      "    filter, lag\n",
      "\n",
      "The following objects are masked from ‘package:base’:\n",
      "\n",
      "    intersect, setdiff, setequal, union\n",
      "\n"
     ]
    }
   ],
   "source": [
    "library(dplyr)\n",
    "data <- read.csv(\"../PH252.1x//project1/mice_pheno.csv\")\n",
    "dat <- na.omit( data )"
   ]
  },
  {
   "cell_type": "code",
   "execution_count": null,
   "metadata": {},
   "outputs": [],
   "source": [
    "male_chow <- filter(dat,  Sex==\"M\") %>% filter(dat,  Diet==\"chow\")"
   ]
  },
  {
   "cell_type": "code",
   "execution_count": 17,
   "metadata": {},
   "outputs": [
    {
     "data": {
      "text/html": [
       "<table>\n",
       "<thead><tr><th></th><th scope=col>Sex</th><th scope=col>Diet</th><th scope=col>Bodyweight</th></tr></thead>\n",
       "<tbody>\n",
       "\t<tr><th scope=row>1</th><td>F    </td><td>hf   </td><td>31.94</td></tr>\n",
       "\t<tr><th scope=row>2</th><td>F    </td><td>hf   </td><td>32.48</td></tr>\n",
       "\t<tr><th scope=row>3</th><td>F    </td><td>hf   </td><td>22.82</td></tr>\n",
       "\t<tr><th scope=row>4</th><td>F    </td><td>hf   </td><td>19.92</td></tr>\n",
       "\t<tr><th scope=row>5</th><td>F    </td><td>hf   </td><td>32.22</td></tr>\n",
       "\t<tr><th scope=row>6</th><td>F    </td><td>hf   </td><td>27.50</td></tr>\n",
       "\t<tr><th scope=row>7</th><td>F    </td><td>hf   </td><td>27.56</td></tr>\n",
       "\t<tr><th scope=row>8</th><td>F    </td><td>hf   </td><td>36.44</td></tr>\n",
       "\t<tr><th scope=row>9</th><td>F    </td><td>hf   </td><td>19.39</td></tr>\n",
       "\t<tr><th scope=row>10</th><td>F    </td><td>hf   </td><td>23.16</td></tr>\n",
       "\t<tr><th scope=row>11</th><td>F    </td><td>hf   </td><td>24.29</td></tr>\n",
       "\t<tr><th scope=row>12</th><td>F    </td><td>hf   </td><td>18.78</td></tr>\n",
       "\t<tr><th scope=row>13</th><td>F    </td><td>hf   </td><td>25.43</td></tr>\n",
       "\t<tr><th scope=row>14</th><td>F    </td><td>hf   </td><td>24.30</td></tr>\n",
       "\t<tr><th scope=row>15</th><td>F    </td><td>hf   </td><td>33.90</td></tr>\n",
       "\t<tr><th scope=row>16</th><td>F    </td><td>hf   </td><td>31.47</td></tr>\n",
       "\t<tr><th scope=row>17</th><td>F    </td><td>hf   </td><td>32.01</td></tr>\n",
       "\t<tr><th scope=row>18</th><td>F    </td><td>hf   </td><td>18.52</td></tr>\n",
       "\t<tr><th scope=row>19</th><td>F    </td><td>hf   </td><td>26.86</td></tr>\n",
       "\t<tr><th scope=row>20</th><td>F    </td><td>hf   </td><td>25.41</td></tr>\n",
       "\t<tr><th scope=row>21</th><td>F    </td><td>hf   </td><td>29.18</td></tr>\n",
       "\t<tr><th scope=row>22</th><td>F    </td><td>hf   </td><td>25.30</td></tr>\n",
       "\t<tr><th scope=row>23</th><td>F    </td><td>hf   </td><td>29.64</td></tr>\n",
       "\t<tr><th scope=row>24</th><td>F    </td><td>hf   </td><td>20.73</td></tr>\n",
       "\t<tr><th scope=row>25</th><td>F    </td><td>hf   </td><td>28.26</td></tr>\n",
       "\t<tr><th scope=row>26</th><td>F    </td><td>chow </td><td>27.03</td></tr>\n",
       "\t<tr><th scope=row>27</th><td>F    </td><td>chow </td><td>24.80</td></tr>\n",
       "\t<tr><th scope=row>28</th><td>F    </td><td>chow </td><td>27.02</td></tr>\n",
       "\t<tr><th scope=row>29</th><td>F    </td><td>chow </td><td>28.07</td></tr>\n",
       "\t<tr><th scope=row>30</th><td>F    </td><td>chow </td><td>23.55</td></tr>\n",
       "\t<tr><th scope=row>⋮</th><td>⋮</td><td>⋮</td><td>⋮</td></tr>\n",
       "\t<tr><th scope=row>815</th><td>M    </td><td>chow </td><td>33.53</td></tr>\n",
       "\t<tr><th scope=row>816</th><td>M    </td><td>chow </td><td>30.86</td></tr>\n",
       "\t<tr><th scope=row>817</th><td>M    </td><td>chow </td><td>27.90</td></tr>\n",
       "\t<tr><th scope=row>818</th><td>M    </td><td>chow </td><td>31.57</td></tr>\n",
       "\t<tr><th scope=row>819</th><td>M    </td><td>chow </td><td>26.09</td></tr>\n",
       "\t<tr><th scope=row>820</th><td>M    </td><td>chow </td><td>23.14</td></tr>\n",
       "\t<tr><th scope=row>821</th><td>M    </td><td>chow </td><td>31.28</td></tr>\n",
       "\t<tr><th scope=row>822</th><td>M    </td><td>hf   </td><td>30.81</td></tr>\n",
       "\t<tr><th scope=row>823</th><td>M    </td><td>hf   </td><td>36.21</td></tr>\n",
       "\t<tr><th scope=row>824</th><td>M    </td><td>hf   </td><td>39.21</td></tr>\n",
       "\t<tr><th scope=row>825</th><td>M    </td><td>hf   </td><td>37.99</td></tr>\n",
       "\t<tr><th scope=row>826</th><td>M    </td><td>hf   </td><td>39.69</td></tr>\n",
       "\t<tr><th scope=row>827</th><td>M    </td><td>hf   </td><td>36.98</td></tr>\n",
       "\t<tr><th scope=row>828</th><td>M    </td><td>hf   </td><td>24.52</td></tr>\n",
       "\t<tr><th scope=row>829</th><td>M    </td><td>hf   </td><td>38.53</td></tr>\n",
       "\t<tr><th scope=row>830</th><td>M    </td><td>hf   </td><td>33.83</td></tr>\n",
       "\t<tr><th scope=row>831</th><td>M    </td><td>hf   </td><td>30.04</td></tr>\n",
       "\t<tr><th scope=row>832</th><td>M    </td><td>hf   </td><td>27.03</td></tr>\n",
       "\t<tr><th scope=row>833</th><td>M    </td><td>hf   </td><td>34.89</td></tr>\n",
       "\t<tr><th scope=row>836</th><td>M    </td><td>hf   </td><td>32.07</td></tr>\n",
       "\t<tr><th scope=row>837</th><td>M    </td><td>hf   </td><td>22.48</td></tr>\n",
       "\t<tr><th scope=row>838</th><td>M    </td><td>hf   </td><td>30.93</td></tr>\n",
       "\t<tr><th scope=row>839</th><td>M    </td><td>hf   </td><td>29.69</td></tr>\n",
       "\t<tr><th scope=row>840</th><td>M    </td><td>hf   </td><td>34.52</td></tr>\n",
       "\t<tr><th scope=row>841</th><td>M    </td><td>hf   </td><td>30.85</td></tr>\n",
       "\t<tr><th scope=row>842</th><td>M    </td><td>hf   </td><td>36.43</td></tr>\n",
       "\t<tr><th scope=row>843</th><td>M    </td><td>hf   </td><td>24.09</td></tr>\n",
       "\t<tr><th scope=row>844</th><td>M    </td><td>hf   </td><td>32.18</td></tr>\n",
       "\t<tr><th scope=row>845</th><td>M    </td><td>hf   </td><td>34.14</td></tr>\n",
       "\t<tr><th scope=row>846</th><td>M    </td><td>hf   </td><td>41.82</td></tr>\n",
       "</tbody>\n",
       "</table>\n"
      ],
      "text/latex": [
       "\\begin{tabular}{r|lll}\n",
       "  & Sex & Diet & Bodyweight\\\\\n",
       "\\hline\n",
       "\t1 & F     & hf    & 31.94\\\\\n",
       "\t2 & F     & hf    & 32.48\\\\\n",
       "\t3 & F     & hf    & 22.82\\\\\n",
       "\t4 & F     & hf    & 19.92\\\\\n",
       "\t5 & F     & hf    & 32.22\\\\\n",
       "\t6 & F     & hf    & 27.50\\\\\n",
       "\t7 & F     & hf    & 27.56\\\\\n",
       "\t8 & F     & hf    & 36.44\\\\\n",
       "\t9 & F     & hf    & 19.39\\\\\n",
       "\t10 & F     & hf    & 23.16\\\\\n",
       "\t11 & F     & hf    & 24.29\\\\\n",
       "\t12 & F     & hf    & 18.78\\\\\n",
       "\t13 & F     & hf    & 25.43\\\\\n",
       "\t14 & F     & hf    & 24.30\\\\\n",
       "\t15 & F     & hf    & 33.90\\\\\n",
       "\t16 & F     & hf    & 31.47\\\\\n",
       "\t17 & F     & hf    & 32.01\\\\\n",
       "\t18 & F     & hf    & 18.52\\\\\n",
       "\t19 & F     & hf    & 26.86\\\\\n",
       "\t20 & F     & hf    & 25.41\\\\\n",
       "\t21 & F     & hf    & 29.18\\\\\n",
       "\t22 & F     & hf    & 25.30\\\\\n",
       "\t23 & F     & hf    & 29.64\\\\\n",
       "\t24 & F     & hf    & 20.73\\\\\n",
       "\t25 & F     & hf    & 28.26\\\\\n",
       "\t26 & F     & chow  & 27.03\\\\\n",
       "\t27 & F     & chow  & 24.80\\\\\n",
       "\t28 & F     & chow  & 27.02\\\\\n",
       "\t29 & F     & chow  & 28.07\\\\\n",
       "\t30 & F     & chow  & 23.55\\\\\n",
       "\t⋮ & ⋮ & ⋮ & ⋮\\\\\n",
       "\t815 & M     & chow  & 33.53\\\\\n",
       "\t816 & M     & chow  & 30.86\\\\\n",
       "\t817 & M     & chow  & 27.90\\\\\n",
       "\t818 & M     & chow  & 31.57\\\\\n",
       "\t819 & M     & chow  & 26.09\\\\\n",
       "\t820 & M     & chow  & 23.14\\\\\n",
       "\t821 & M     & chow  & 31.28\\\\\n",
       "\t822 & M     & hf    & 30.81\\\\\n",
       "\t823 & M     & hf    & 36.21\\\\\n",
       "\t824 & M     & hf    & 39.21\\\\\n",
       "\t825 & M     & hf    & 37.99\\\\\n",
       "\t826 & M     & hf    & 39.69\\\\\n",
       "\t827 & M     & hf    & 36.98\\\\\n",
       "\t828 & M     & hf    & 24.52\\\\\n",
       "\t829 & M     & hf    & 38.53\\\\\n",
       "\t830 & M     & hf    & 33.83\\\\\n",
       "\t831 & M     & hf    & 30.04\\\\\n",
       "\t832 & M     & hf    & 27.03\\\\\n",
       "\t833 & M     & hf    & 34.89\\\\\n",
       "\t836 & M     & hf    & 32.07\\\\\n",
       "\t837 & M     & hf    & 22.48\\\\\n",
       "\t838 & M     & hf    & 30.93\\\\\n",
       "\t839 & M     & hf    & 29.69\\\\\n",
       "\t840 & M     & hf    & 34.52\\\\\n",
       "\t841 & M     & hf    & 30.85\\\\\n",
       "\t842 & M     & hf    & 36.43\\\\\n",
       "\t843 & M     & hf    & 24.09\\\\\n",
       "\t844 & M     & hf    & 32.18\\\\\n",
       "\t845 & M     & hf    & 34.14\\\\\n",
       "\t846 & M     & hf    & 41.82\\\\\n",
       "\\end{tabular}\n"
      ],
      "text/markdown": [
       "\n",
       "| <!--/--> | Sex | Diet | Bodyweight | \n",
       "|---|---|---|---|---|---|---|---|---|---|---|---|---|---|---|---|---|---|---|---|---|---|---|---|---|---|---|---|---|---|---|---|---|---|---|---|---|---|---|---|---|---|---|---|---|---|---|---|---|---|---|---|---|---|---|---|---|---|---|---|---|\n",
       "| 1 | F     | hf    | 31.94 | \n",
       "| 2 | F     | hf    | 32.48 | \n",
       "| 3 | F     | hf    | 22.82 | \n",
       "| 4 | F     | hf    | 19.92 | \n",
       "| 5 | F     | hf    | 32.22 | \n",
       "| 6 | F     | hf    | 27.50 | \n",
       "| 7 | F     | hf    | 27.56 | \n",
       "| 8 | F     | hf    | 36.44 | \n",
       "| 9 | F     | hf    | 19.39 | \n",
       "| 10 | F     | hf    | 23.16 | \n",
       "| 11 | F     | hf    | 24.29 | \n",
       "| 12 | F     | hf    | 18.78 | \n",
       "| 13 | F     | hf    | 25.43 | \n",
       "| 14 | F     | hf    | 24.30 | \n",
       "| 15 | F     | hf    | 33.90 | \n",
       "| 16 | F     | hf    | 31.47 | \n",
       "| 17 | F     | hf    | 32.01 | \n",
       "| 18 | F     | hf    | 18.52 | \n",
       "| 19 | F     | hf    | 26.86 | \n",
       "| 20 | F     | hf    | 25.41 | \n",
       "| 21 | F     | hf    | 29.18 | \n",
       "| 22 | F     | hf    | 25.30 | \n",
       "| 23 | F     | hf    | 29.64 | \n",
       "| 24 | F     | hf    | 20.73 | \n",
       "| 25 | F     | hf    | 28.26 | \n",
       "| 26 | F     | chow  | 27.03 | \n",
       "| 27 | F     | chow  | 24.80 | \n",
       "| 28 | F     | chow  | 27.02 | \n",
       "| 29 | F     | chow  | 28.07 | \n",
       "| 30 | F     | chow  | 23.55 | \n",
       "| ⋮ | ⋮ | ⋮ | ⋮ | \n",
       "| 815 | M     | chow  | 33.53 | \n",
       "| 816 | M     | chow  | 30.86 | \n",
       "| 817 | M     | chow  | 27.90 | \n",
       "| 818 | M     | chow  | 31.57 | \n",
       "| 819 | M     | chow  | 26.09 | \n",
       "| 820 | M     | chow  | 23.14 | \n",
       "| 821 | M     | chow  | 31.28 | \n",
       "| 822 | M     | hf    | 30.81 | \n",
       "| 823 | M     | hf    | 36.21 | \n",
       "| 824 | M     | hf    | 39.21 | \n",
       "| 825 | M     | hf    | 37.99 | \n",
       "| 826 | M     | hf    | 39.69 | \n",
       "| 827 | M     | hf    | 36.98 | \n",
       "| 828 | M     | hf    | 24.52 | \n",
       "| 829 | M     | hf    | 38.53 | \n",
       "| 830 | M     | hf    | 33.83 | \n",
       "| 831 | M     | hf    | 30.04 | \n",
       "| 832 | M     | hf    | 27.03 | \n",
       "| 833 | M     | hf    | 34.89 | \n",
       "| 836 | M     | hf    | 32.07 | \n",
       "| 837 | M     | hf    | 22.48 | \n",
       "| 838 | M     | hf    | 30.93 | \n",
       "| 839 | M     | hf    | 29.69 | \n",
       "| 840 | M     | hf    | 34.52 | \n",
       "| 841 | M     | hf    | 30.85 | \n",
       "| 842 | M     | hf    | 36.43 | \n",
       "| 843 | M     | hf    | 24.09 | \n",
       "| 844 | M     | hf    | 32.18 | \n",
       "| 845 | M     | hf    | 34.14 | \n",
       "| 846 | M     | hf    | 41.82 | \n",
       "\n",
       "\n"
      ],
      "text/plain": [
       "    Sex Diet Bodyweight\n",
       "1   F   hf   31.94     \n",
       "2   F   hf   32.48     \n",
       "3   F   hf   22.82     \n",
       "4   F   hf   19.92     \n",
       "5   F   hf   32.22     \n",
       "6   F   hf   27.50     \n",
       "7   F   hf   27.56     \n",
       "8   F   hf   36.44     \n",
       "9   F   hf   19.39     \n",
       "10  F   hf   23.16     \n",
       "11  F   hf   24.29     \n",
       "12  F   hf   18.78     \n",
       "13  F   hf   25.43     \n",
       "14  F   hf   24.30     \n",
       "15  F   hf   33.90     \n",
       "16  F   hf   31.47     \n",
       "17  F   hf   32.01     \n",
       "18  F   hf   18.52     \n",
       "19  F   hf   26.86     \n",
       "20  F   hf   25.41     \n",
       "21  F   hf   29.18     \n",
       "22  F   hf   25.30     \n",
       "23  F   hf   29.64     \n",
       "24  F   hf   20.73     \n",
       "25  F   hf   28.26     \n",
       "26  F   chow 27.03     \n",
       "27  F   chow 24.80     \n",
       "28  F   chow 27.02     \n",
       "29  F   chow 28.07     \n",
       "30  F   chow 23.55     \n",
       "⋮   ⋮   ⋮    ⋮         \n",
       "815 M   chow 33.53     \n",
       "816 M   chow 30.86     \n",
       "817 M   chow 27.90     \n",
       "818 M   chow 31.57     \n",
       "819 M   chow 26.09     \n",
       "820 M   chow 23.14     \n",
       "821 M   chow 31.28     \n",
       "822 M   hf   30.81     \n",
       "823 M   hf   36.21     \n",
       "824 M   hf   39.21     \n",
       "825 M   hf   37.99     \n",
       "826 M   hf   39.69     \n",
       "827 M   hf   36.98     \n",
       "828 M   hf   24.52     \n",
       "829 M   hf   38.53     \n",
       "830 M   hf   33.83     \n",
       "831 M   hf   30.04     \n",
       "832 M   hf   27.03     \n",
       "833 M   hf   34.89     \n",
       "836 M   hf   32.07     \n",
       "837 M   hf   22.48     \n",
       "838 M   hf   30.93     \n",
       "839 M   hf   29.69     \n",
       "840 M   hf   34.52     \n",
       "841 M   hf   30.85     \n",
       "842 M   hf   36.43     \n",
       "843 M   hf   24.09     \n",
       "844 M   hf   32.18     \n",
       "845 M   hf   34.14     \n",
       "846 M   hf   41.82     "
      ]
     },
     "metadata": {},
     "output_type": "display_data"
    }
   ],
   "source": [
    "dat"
   ]
  },
  {
   "cell_type": "code",
   "execution_count": 2,
   "metadata": {},
   "outputs": [
    {
     "ename": "ERROR",
     "evalue": "Error in parse(text = x, srcfile = src): <text>:1:1: unexpected SPECIAL\n1: %%\n    ^\n",
     "output_type": "error",
     "traceback": [
      "Error in parse(text = x, srcfile = src): <text>:1:1: unexpected SPECIAL\n1: %%\n    ^\nTraceback:\n"
     ]
    }
   ],
   "source": []
  },
  {
   "cell_type": "code",
   "execution_count": null,
   "metadata": {
    "collapsed": true
   },
   "outputs": [],
   "source": []
  }
 ],
 "metadata": {
  "kernelspec": {
   "display_name": "R",
   "language": "R",
   "name": "ir"
  },
  "language_info": {
   "codemirror_mode": "r",
   "file_extension": ".r",
   "mimetype": "text/x-r-source",
   "name": "R",
   "pygments_lexer": "r",
   "version": "3.4.1"
  }
 },
 "nbformat": 4,
 "nbformat_minor": 2
}
